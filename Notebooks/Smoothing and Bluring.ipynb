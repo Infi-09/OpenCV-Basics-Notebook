{
 "cells": [
  {
   "cell_type": "markdown",
   "id": "4aeeaffa",
   "metadata": {},
   "source": [
    "# OPNECV NOTEBOOK"
   ]
  },
  {
   "cell_type": "markdown",
   "id": "c8ad5e48",
   "metadata": {},
   "source": [
    "# Smoothing and Blurring\n",
    "I’m pretty sure we all know what blurring is. It’s what happens when your camera takes a picture out of focus. Sharper regions in the image lose their detail, normally as a disc/circular shape.                                                                                                                                                                                                                                                                                \n",
    "Practically, this means that each pixel in the image is mixed in with its surrounding pixel intensities. This “mixture” of pixels in a neighborhood becomes our blurred pixel.While this effect is usually unwanted in our photographs,it’s actually quite helpful when performing image processing tasks.                            \n",
    "\n",
    "In fact, many image processing and computer vision functions, such as thresholding and edge detection, perform better if the image is first smoothed or blurred."
   ]
  },
  {
   "cell_type": "code",
   "execution_count": 4,
   "id": "4d2642b7",
   "metadata": {},
   "outputs": [],
   "source": [
    "import cv2\n",
    "import numpy as np"
   ]
  },
  {
   "cell_type": "code",
   "execution_count": 3,
   "id": "4a9b6b59",
   "metadata": {},
   "outputs": [
    {
     "data": {
      "text/plain": [
       "-1"
      ]
     },
     "execution_count": 3,
     "metadata": {},
     "output_type": "execute_result"
    }
   ],
   "source": [
    "image = cv2.imread(\"images\\dc.jpg\")\n",
    "image.shape\n",
    "cv2.imshow(\"Original\", image)\n",
    "cv2.waitKey(0)"
   ]
  },
  {
   "cell_type": "markdown",
   "id": "3f51022f",
   "metadata": {},
   "source": [
    "## Averaging\n",
    "The first blurring method we are going to explore is averaging.\n",
    "As the name suggests, we are going to define a k × k sliding window on top of our image, where k is always an odd\n",
    "number. This window is going to slide from left-to-right\n",
    "and from top-to-bottom. The pixel at the center of this matrix (we have to use an odd number, otherwise there would\n",
    "not be a true “center”) is then set to be the average of all\n",
    "other pixels surrounding it."
   ]
  },
  {
   "cell_type": "code",
   "execution_count": 5,
   "id": "de4dd22a",
   "metadata": {},
   "outputs": [
    {
     "data": {
      "text/plain": [
       "-1"
      ]
     },
     "execution_count": 5,
     "metadata": {},
     "output_type": "execute_result"
    }
   ],
   "source": [
    "# Let's blur our favourite dc\n",
    "blurred = np.hstack([cv2.blur(image, (7, 7)),\n",
    "                     cv2.blur(image, (12, 12))])\n",
    "cv2.imshow(\"Average Blurred DC\", blurred)\n",
    "cv2.waitKey(0)"
   ]
  },
  {
   "cell_type": "markdown",
   "id": "3d771748",
   "metadata": {},
   "source": [
    "## Gaussian\n",
    "Next up, we are going to review Gaussian blurring. Gaussian blurring is similar to average blurring, but instead of\n",
    "using a simple mean, we are now using a weighted mean,\n",
    "where neighborhood pixels that are closer to the central\n",
    "pixel contribute more “weight” to the average.\n",
    "The end result is that our image is less blurred, but more\n",
    "naturally blurred, than using the average method discussed\n",
    "in the previous section."
   ]
  },
  {
   "cell_type": "code",
   "execution_count": 6,
   "id": "1bee5a65",
   "metadata": {},
   "outputs": [
    {
     "data": {
      "text/plain": [
       "-1"
      ]
     },
     "execution_count": 6,
     "metadata": {},
     "output_type": "execute_result"
    }
   ],
   "source": [
    "# Let's blur our favourite dc\n",
    "blurred = np.hstack([cv2.GaussianBlur(image, (3, 3), 0), # [image, sliding, standard devaition]\n",
    "                     cv2.GaussianBlur(image, (7, 7), 0)])\n",
    "cv2.imshow(\"Gaussian Blurred DC\", blurred)\n",
    "cv2.waitKey(0)"
   ]
  },
  {
   "cell_type": "markdown",
   "id": "078352dd",
   "metadata": {},
   "source": [
    "## Median\n",
    "Traditionally, the median blur method has been most effective when removing salt-and-pepper noise. This type of\n",
    "noise is exactly what it sounds like: imagine taking a photograph, putting it on your dining room table, and sprinkling\n",
    "salt and pepper on top of it. Using the median blur method,\n",
    "you could remove the salt and pepper from your image."
   ]
  },
  {
   "cell_type": "code",
   "execution_count": 7,
   "id": "b3284b44",
   "metadata": {},
   "outputs": [
    {
     "data": {
      "text/plain": [
       "-1"
      ]
     },
     "execution_count": 7,
     "metadata": {},
     "output_type": "execute_result"
    }
   ],
   "source": [
    "# Let's blur our favourite dc\n",
    "blurred = np.hstack([cv2.medianBlur(image, 3),\n",
    "                     cv2.medianBlur(image, 7)])\n",
    "cv2.imshow(\"Median Blurred DC\", blurred)\n",
    "cv2.waitKey(0)"
   ]
  },
  {
   "cell_type": "markdown",
   "id": "06f3f3ff",
   "metadata": {},
   "source": [
    "## Bilateral\n",
    "In order to reduce noise while still maintaining edges, we\n",
    "can use bilateral blurring. Bilateral blurring accomplishes\n",
    "this by introducing two Gaussian distributions.\n",
    "The first Gaussian function only considers spatial neighbors, that is, pixels that appear close together in the (x, y)\n",
    "coordinate space of the image. The second Gaussian then\n",
    "models the pixel intensity of the neighborhood, ensuring\n",
    "that only pixels with similar intensity are included in the\n",
    "actual computation of the blur."
   ]
  },
  {
   "cell_type": "code",
   "execution_count": 8,
   "id": "9d08bf0c",
   "metadata": {},
   "outputs": [
    {
     "data": {
      "text/plain": [
       "-1"
      ]
     },
     "execution_count": 8,
     "metadata": {},
     "output_type": "execute_result"
    }
   ],
   "source": [
    "# Let's blur our favourite dc\n",
    "blurred = np.hstack([cv2.bilateralFilter(image, 3, 45, 27), # [image, kernel, color, space]\n",
    "                     cv2.bilateralFilter(image, 7, 67, 98)])\n",
    "cv2.imshow(\"Bilateral Blurred DC\", blurred)\n",
    "cv2.waitKey(0)"
   ]
  },
  {
   "cell_type": "markdown",
   "id": "27c7ab2f",
   "metadata": {},
   "source": [
    "The first parameter we supply\n",
    "is the image we want to blur. Then, we need to define the\n",
    "diameter of our pixel neighborhood. The third argument\n",
    "is our color s. A larger value for color s means that more\n",
    "colors in the neighborhood will be considered when computing the blur. Finally, we need to supply the space s. A\n",
    "larger value of space s means that pixels farther out from\n",
    "the central pixel will influence the blurring calculation, provided that their colors are similar enough."
   ]
  },
  {
   "cell_type": "code",
   "execution_count": null,
   "id": "df5bd344",
   "metadata": {},
   "outputs": [],
   "source": []
  }
 ],
 "metadata": {
  "kernelspec": {
   "display_name": "Python 3",
   "language": "python",
   "name": "python3"
  },
  "language_info": {
   "codemirror_mode": {
    "name": "ipython",
    "version": 3
   },
   "file_extension": ".py",
   "mimetype": "text/x-python",
   "name": "python",
   "nbconvert_exporter": "python",
   "pygments_lexer": "ipython3",
   "version": "3.8.8"
  }
 },
 "nbformat": 4,
 "nbformat_minor": 5
}
