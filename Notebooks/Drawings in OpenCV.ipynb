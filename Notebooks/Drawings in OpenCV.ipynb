{
 "cells": [
  {
   "cell_type": "markdown",
   "id": "18a44e7d",
   "metadata": {},
   "source": [
    "# Drawings"
   ]
  },
  {
   "cell_type": "markdown",
   "id": "f51765e9",
   "metadata": {},
   "source": [
    "## Lines "
   ]
  },
  {
   "cell_type": "code",
   "execution_count": 1,
   "id": "00bc93f1",
   "metadata": {},
   "outputs": [],
   "source": [
    "import cv2\n",
    "import numpy as np"
   ]
  },
  {
   "cell_type": "code",
   "execution_count": 2,
   "id": "6017d16f",
   "metadata": {},
   "outputs": [
    {
     "data": {
      "text/plain": [
       "-1"
      ]
     },
     "execution_count": 2,
     "metadata": {},
     "output_type": "execute_result"
    }
   ],
   "source": [
    "# Create the imgae of solid black color to the draw the lines and the rectangle\n",
    "canvas = np.zeros((300, 300, 3), dtype='uint8')\n",
    "cv2.imshow(\"Solid Black\", canvas)\n",
    "cv2.waitKey(0)"
   ]
  },
  {
   "cell_type": "code",
   "execution_count": 3,
   "id": "784b9d98",
   "metadata": {},
   "outputs": [
    {
     "data": {
      "text/plain": [
       "-1"
      ]
     },
     "execution_count": 3,
     "metadata": {},
     "output_type": "execute_result"
    }
   ],
   "source": [
    "# Let's draw a line in the created canvas with green color\n",
    "green = (0, 255, 0)\n",
    "cv2.line(canvas, (30, 30), (10, 280), green, 1)\n",
    "cv2.imshow(\"Canvas\", canvas)\n",
    "cv2.waitKey(0)"
   ]
  },
  {
   "cell_type": "code",
   "execution_count": 4,
   "id": "8d456311",
   "metadata": {},
   "outputs": [
    {
     "data": {
      "text/plain": [
       "-1"
      ]
     },
     "execution_count": 4,
     "metadata": {},
     "output_type": "execute_result"
    }
   ],
   "source": [
    "# Let's do something fun\n",
    "for i in range(10, 300, 10):\n",
    "    for j in range(10, 300, 10):\n",
    "        cv2.line(canvas, (i, j), (10, 280), green, 1)\n",
    "cv2.imshow(\"Canvas\", canvas)\n",
    "cv2.waitKey(0)"
   ]
  },
  {
   "cell_type": "code",
   "execution_count": 5,
   "id": "d138a802",
   "metadata": {},
   "outputs": [
    {
     "data": {
      "text/plain": [
       "-1"
      ]
     },
     "execution_count": 5,
     "metadata": {},
     "output_type": "execute_result"
    }
   ],
   "source": [
    "# Let's draw a line in the created canvas with red color\n",
    "red = (0, 0, 255)\n",
    "cv2.line(canvas, (48, 67), (270, 280), red, 5)\n",
    "cv2.imshow(\"Canvas\", canvas)\n",
    "cv2.waitKey(0)"
   ]
  },
  {
   "cell_type": "markdown",
   "id": "8d15a1e4",
   "metadata": {},
   "source": [
    "## Rectangle"
   ]
  },
  {
   "cell_type": "code",
   "execution_count": 6,
   "id": "69da57e9",
   "metadata": {},
   "outputs": [],
   "source": [
    "# Create a new canvas for the rectangles to play with it\n",
    "canvas = np.zeros((300, 300, 3), dtype='uint8')"
   ]
  },
  {
   "cell_type": "code",
   "execution_count": 7,
   "id": "685b0f3f",
   "metadata": {},
   "outputs": [
    {
     "data": {
      "text/plain": [
       "-1"
      ]
     },
     "execution_count": 7,
     "metadata": {},
     "output_type": "execute_result"
    }
   ],
   "source": [
    "green = (0, 255, 0)\n",
    "cv2.rectangle(canvas, (140, 140), (250, 250), green, 3)\n",
    "cv2.imshow(\"Canvas\", canvas)\n",
    "cv2.waitKey(0)"
   ]
  },
  {
   "cell_type": "code",
   "execution_count": 8,
   "id": "e651b7f3",
   "metadata": {},
   "outputs": [
    {
     "data": {
      "text/plain": [
       "-1"
      ]
     },
     "execution_count": 8,
     "metadata": {},
     "output_type": "execute_result"
    }
   ],
   "source": [
    "red = (0, 0, 255)\n",
    "cv2.rectangle(canvas, (30, 30), (140, 140), red, 3)\n",
    "cv2.imshow(\"Canvas\", canvas)\n",
    "cv2.waitKey(0)"
   ]
  },
  {
   "cell_type": "code",
   "execution_count": 9,
   "id": "e899b8f3",
   "metadata": {},
   "outputs": [
    {
     "data": {
      "text/plain": [
       "-1"
      ]
     },
     "execution_count": 9,
     "metadata": {},
     "output_type": "execute_result"
    }
   ],
   "source": [
    "blue = (255, 0, 0)\n",
    "cv2.rectangle(canvas, (85, 85), (195, 195), blue, -1)\n",
    "cv2.imshow(\"Canvas\", canvas)\n",
    "cv2.waitKey(0)"
   ]
  },
  {
   "cell_type": "markdown",
   "id": "a0d73080",
   "metadata": {},
   "source": [
    "## Circles"
   ]
  },
  {
   "cell_type": "code",
   "execution_count": 10,
   "id": "66dc7372",
   "metadata": {},
   "outputs": [],
   "source": [
    "# Create a new canvas for drawing circles\n",
    "canvas = np.zeros((300, 300, 3), dtype='uint8')"
   ]
  },
  {
   "cell_type": "code",
   "execution_count": 11,
   "id": "30ca4368",
   "metadata": {},
   "outputs": [
    {
     "data": {
      "text/plain": [
       "-1"
      ]
     },
     "execution_count": 11,
     "metadata": {},
     "output_type": "execute_result"
    }
   ],
   "source": [
    "# Make a point for drawing the circles in centre\n",
    "(centreX, centreY) = (canvas.shape[1]//2, canvas.shape[0]//2)\n",
    "aqua = (0, 255, 255)\n",
    "# For loop for creating the different radius\n",
    "for r in range(0, 175, 25):\n",
    "    cv2.circle(canvas, (centreX, centreY), r, aqua, 3)\n",
    "\n",
    "cv2.imshow(\"Canvas\", canvas)    \n",
    "cv2.waitKey(0)"
   ]
  },
  {
   "cell_type": "code",
   "execution_count": 12,
   "id": "adaf0a35",
   "metadata": {},
   "outputs": [],
   "source": [
    "# Create a new canvas for drawing circles\n",
    "canvas = np.zeros((300, 300, 3), dtype='uint8')"
   ]
  },
  {
   "cell_type": "code",
   "execution_count": 15,
   "id": "09654702",
   "metadata": {},
   "outputs": [
    {
     "data": {
      "text/plain": [
       "-1"
      ]
     },
     "execution_count": 15,
     "metadata": {},
     "output_type": "execute_result"
    }
   ],
   "source": [
    "# Loop for creating different 25 circles\n",
    "for i in range(0, 25):\n",
    "    radius = np.random.randint(5, high = 200)\n",
    "    color = np.random.randint(0, high = 256, size = (3,)).tolist()\n",
    "    pt = np.random.randint(0, high = 300, size = (2,))\n",
    "    cv2.circle(canvas, tuple(pt), radius, color, -1)\n",
    "\n",
    "cv2.imshow(\"Canvas\", canvas)\n",
    "cv2.waitKey(0)"
   ]
  },
  {
   "cell_type": "code",
   "execution_count": null,
   "id": "f9a7e587",
   "metadata": {},
   "outputs": [],
   "source": []
  }
 ],
 "metadata": {
  "kernelspec": {
   "display_name": "Python 3",
   "language": "python",
   "name": "python3"
  },
  "language_info": {
   "codemirror_mode": {
    "name": "ipython",
    "version": 3
   },
   "file_extension": ".py",
   "mimetype": "text/x-python",
   "name": "python",
   "nbconvert_exporter": "python",
   "pygments_lexer": "ipython3",
   "version": "3.8.8"
  }
 },
 "nbformat": 4,
 "nbformat_minor": 5
}
