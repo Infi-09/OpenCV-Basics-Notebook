{
 "cells": [
  {
   "cell_type": "markdown",
   "id": "7a2d40af",
   "metadata": {},
   "source": [
    "# OPENCV NOTEBOOK"
   ]
  },
  {
   "cell_type": "markdown",
   "id": "1a2baa8d",
   "metadata": {},
   "source": [
    "#  Thresholding\n",
    "Thresholding is the binarization of an image. In general,\n",
    "we seek to convert a grayscale image to a binary image,\n",
    "where the pixels are either 0 or 255.\n",
    "\n",
    "A simple thresholding example would be selecting a pixel\n",
    "value p, and then setting all pixel intensities less than p to\n",
    "zero, and all pixel values greater than p to 255. In this way,\n",
    "we are able to create a binary representation of the image.\n",
    "\n",
    "Normally, we use thresholding to focus on objects or areas of particular interest in an image. In the examples in the\n",
    "sections below, we will empty our pockets and look at our\n",
    "spare change. Using thresholding methods, we’ll be able to\n",
    "find the coins in an image."
   ]
  },
  {
   "cell_type": "code",
   "execution_count": 1,
   "id": "d74a04d4",
   "metadata": {},
   "outputs": [],
   "source": [
    "import cv2\n",
    "import mahotas\n",
    "import numpy as np"
   ]
  },
  {
   "cell_type": "code",
   "execution_count": 2,
   "id": "546143fa",
   "metadata": {},
   "outputs": [
    {
     "data": {
      "text/plain": [
       "(588, 466, 3)"
      ]
     },
     "execution_count": 2,
     "metadata": {},
     "output_type": "execute_result"
    }
   ],
   "source": [
    "img = cv2.imread(\"images\\symbol.jpg\")\n",
    "img.shape"
   ]
  },
  {
   "cell_type": "markdown",
   "id": "658cf0f4",
   "metadata": {},
   "source": [
    "## Simple Thresholding\n",
    "Applying simple thresholding methods requires human intervention. We must specify a threshold value T. All pixel\n",
    "intensities below T are set to 0. And all pixel intensities\n",
    "greater than T are set to 255.\n",
    "\n",
    "We can also apply the inverse of this binarization by setting all pixels below T to 255 and all pixel intensities greater\n",
    "than T to 0."
   ]
  },
  {
   "cell_type": "code",
   "execution_count": 3,
   "id": "106f8f19",
   "metadata": {},
   "outputs": [
    {
     "data": {
      "text/plain": [
       "-1"
      ]
     },
     "execution_count": 3,
     "metadata": {},
     "output_type": "execute_result"
    }
   ],
   "source": [
    "# First convert the BGR image to Gray scale image\n",
    "image = cv2.cvtColor(img, cv2.COLOR_BGR2GRAY)\n",
    "cv2.imshow(\"Original Image\", image)\n",
    "blurred = cv2.GaussianBlur(image, (5, 5), 0)\n",
    "cv2.imshow(\"Gaussian Blurred Image\", blurred)\n",
    "cv2.waitKey(0)"
   ]
  },
  {
   "cell_type": "code",
   "execution_count": 4,
   "id": "18af60ed",
   "metadata": {},
   "outputs": [
    {
     "data": {
      "text/plain": [
       "-1"
      ]
     },
     "execution_count": 4,
     "metadata": {},
     "output_type": "execute_result"
    }
   ],
   "source": [
    "# Threshold Binary\n",
    "(T, thres) = cv2.threshold(blurred, 140, 255, cv2.THRESH_BINARY)\n",
    "cv2.imshow(\"Threshold Binary Image\", thres)\n",
    "\n",
    "(T, invThres) = cv2.threshold(blurred, 140, 255, cv2.THRESH_BINARY_INV)\n",
    "cv2.imshow(\"Inverse Threshold Binary Image\", invThres)\n",
    "cv2.waitKey(0)"
   ]
  },
  {
   "cell_type": "code",
   "execution_count": 5,
   "id": "cf72d9d6",
   "metadata": {},
   "outputs": [
    {
     "data": {
      "text/plain": [
       "-1"
      ]
     },
     "execution_count": 5,
     "metadata": {},
     "output_type": "execute_result"
    }
   ],
   "source": [
    "# Now, apply the invThres image as mask to the image\n",
    "cv2.imshow(\"Image\", cv2.bitwise_and(image, image, mask=invThres))\n",
    "cv2.waitKey(0)"
   ]
  },
  {
   "cell_type": "markdown",
   "id": "bd5e48f1",
   "metadata": {},
   "source": [
    "## Adaptive Thresholding"
   ]
  },
  {
   "cell_type": "code",
   "execution_count": 6,
   "id": "83ffdb3f",
   "metadata": {},
   "outputs": [
    {
     "data": {
      "text/plain": [
       "-1"
      ]
     },
     "execution_count": 6,
     "metadata": {},
     "output_type": "execute_result"
    }
   ],
   "source": [
    "meanThres = cv2.adaptiveThreshold(blurred, # Gray Scale Image\n",
    "                              255,     # Max Pixels in the image\n",
    "                              cv2.ADAPTIVE_THRESH_MEAN_C,  # Mean for neighborHood pixels\n",
    "                              cv2.THRESH_BINARY_INV,    # Threshold binary inverse\n",
    "                              11, # Neighborhood size\n",
    "                              4)   # C (C - mean)\n",
    "cv2.imshow(\"Mean Thresh\", meanThres)\n",
    "gausThres = cv2.adaptiveThreshold(blurred, # Gray Scale Image\n",
    "                              255,     # Max Pixels in the image\n",
    "                              cv2.ADAPTIVE_THRESH_GAUSSIAN_C,  # Mean for neighborHood pixels\n",
    "                              cv2.THRESH_BINARY_INV,    # Threshold binary inverse\n",
    "                              15, # Neighborhood size\n",
    "                              3)   # C (C - gaussian value)\n",
    "cv2.imshow(\"Gaussian Thres\", gausThres)\n",
    "cv2.waitKey(0)"
   ]
  },
  {
   "cell_type": "markdown",
   "id": "cb0436c8",
   "metadata": {},
   "source": [
    "We then apply adaptive thresholding to our blurred image using the cv2.adaptiveThreshold function The first parameter we supply is the image we want to threshold. Then, we supply our maximum value of 255, similar to simple thresholding mentioned above.\n",
    "\n",
    "The third argument is our method to compute the threshold for the current neighborhood of pixels. By supplying cv2.ADAPTIVE_THRESH_MEAN_C, we indicate that we want to compute the mean of the neighborhood of pixels and treatit as our T value.\n",
    "\n",
    "Next, we need our thresholding method. Again, the description of this parameter is identical to the simple thresholding method mentioned above. We use cv2.THRESH_BINARY_INV to indicate that any pixel intensity greater than T inthe neighborhood should be set to 255, otherwise it should\n",
    "be set to 0.\n",
    "\n",
    "The next parameter is our neighborhood size. This integer value must be odd and indicates how large our neighborhood of pixels is going to be. We supply a value of 11, indicating that we are going to examine 11 × 11 pixel regions of the image, instead of trying to threshold the image globally, as in simple thresholding methods.\n",
    "\n",
    "Finally, we supply a parameter simply called C. This value is an integer that is subtracted from the mean, allowing us to fine-tune our thresholding. We use C = 4 in this example. The results of applying mean weighted adaptive thresholding can be seen in the output.\n",
    "\n",
    "Besides applying standard mean thresholding, we can also apply Gaussian (weighted mean) thresholding. The order of the parameters are identical to adaptive threshold mean , but now we are tuning a few of the values. Instead of supplying a value of cv2.ADAPTIVE_THRESH_ MEAN_C, we instead use cv2.ADAPTIVE_THRESH_GAUSSIAN_C to indicate we want to use the weighted mean.\n",
    "\n",
    "We are also using a 15 × 15 pixel neighborhood size rather than an 11 × 11 neighborhood size as in the previous example. We also alter our C value (the value we subtract from the mean) slightly and use 3 rather than 4. The results of applying Gaussian adaptive thresholding and mean adaptive thresholding has a little difference between the two images.\n",
    "\n",
    "In general, choosing between mean adaptive thresholding and Gaussian adaptive thresholding requires a few experiments on your end. The most important parameters to vary are the neighborhood size and C, the value you subtract from the mean. By experimenting with this value, you will be able to dramatically change the results of your thresholding."
   ]
  },
  {
   "cell_type": "markdown",
   "id": "740b15a8",
   "metadata": {},
   "source": [
    "## Otsu and Riddler-Calvard\n",
    "Another way we can automatically compute the threshold\n",
    "value of T is to use Otsu’s method.\n",
    "\n",
    "Otsu’s method assumes there are two peaks in the grayscale\n",
    "histogram of the image. It then tries to find an optimal\n",
    "value to separate these two peaks – thus our value of T.\n",
    "While OpenCV provides support for Otsu’s method, I\n",
    "prefer the implementation by Luis Pedro Coelho in the mahotas\n",
    "package since it is more Pythonic."
   ]
  },
  {
   "cell_type": "code",
   "execution_count": 3,
   "id": "fa211d34",
   "metadata": {},
   "outputs": [
    {
     "data": {
      "text/plain": [
       "-1"
      ]
     },
     "execution_count": 3,
     "metadata": {},
     "output_type": "execute_result"
    }
   ],
   "source": [
    "# First convert our BGR to gray scale image and then apply the gaussian Blur method\n",
    "gray = cv2.cvtColor(img, cv2.COLOR_BGR2GRAY)\n",
    "blurred = cv2.GaussianBlur(gray, (5, 5), 0)\n",
    "cv2.imshow(\"Blurred Original Image\", blurred)\n",
    "cv2.waitKey(0)"
   ]
  },
  {
   "cell_type": "code",
   "execution_count": 5,
   "id": "a98d00c9",
   "metadata": {},
   "outputs": [
    {
     "name": "stdout",
     "output_type": "stream",
     "text": [
      "Otsu Threshold: 148\n"
     ]
    },
    {
     "data": {
      "text/plain": [
       "-1"
      ]
     },
     "execution_count": 5,
     "metadata": {},
     "output_type": "execute_result"
    }
   ],
   "source": [
    "# Otsu's Threshold\n",
    "cv2.imshow(\"Original\", img)\n",
    "# Maunally create the threshold using otsu and rc (Riddle-Calvard)\n",
    "T = mahotas.thresholding.otsu(blurred)\n",
    "print(f\"Otsu Threshold: {T}\")\n",
    "\n",
    "# Create the copy of the image for thresholding\n",
    "thres = gray.copy()\n",
    "thres[thres > T] = 255\n",
    "thres[thres < T] = 0\n",
    "thresh = cv2.bitwise_not(thres)\n",
    "cv2.imshow(\"Otsu\", thresh)\n",
    "cv2.waitKey(0)"
   ]
  },
  {
   "cell_type": "code",
   "execution_count": 6,
   "id": "c2066ab8",
   "metadata": {},
   "outputs": [
    {
     "name": "stdout",
     "output_type": "stream",
     "text": [
      "Riddle Calvard Threshold: 148.67064178674718\n"
     ]
    },
    {
     "data": {
      "text/plain": [
       "-1"
      ]
     },
     "execution_count": 6,
     "metadata": {},
     "output_type": "execute_result"
    }
   ],
   "source": [
    "# Riddle Calvard's Threshold\n",
    "cv2.imshow(\"Original\", img)\n",
    "# Maunally create the threshold using otsu and rc (Riddle-Calvard)\n",
    "T = mahotas.thresholding.rc(blurred)\n",
    "print(f\"Riddle Calvard Threshold: {T}\")\n",
    "\n",
    "# Create the copy of the image for thresholding\n",
    "thres = gray.copy()\n",
    "thres[thres > T] = 255\n",
    "thres[thres < T] = 0\n",
    "thresh = cv2.bitwise_not(thres)\n",
    "cv2.imshow(\"Riddle Calvard\", thresh)\n",
    "cv2.waitKey(0)"
   ]
  },
  {
   "cell_type": "code",
   "execution_count": null,
   "id": "2b3e4294",
   "metadata": {},
   "outputs": [],
   "source": []
  }
 ],
 "metadata": {
  "kernelspec": {
   "display_name": "Python 3",
   "language": "python",
   "name": "python3"
  },
  "language_info": {
   "codemirror_mode": {
    "name": "ipython",
    "version": 3
   },
   "file_extension": ".py",
   "mimetype": "text/x-python",
   "name": "python",
   "nbconvert_exporter": "python",
   "pygments_lexer": "ipython3",
   "version": "3.8.8"
  }
 },
 "nbformat": 4,
 "nbformat_minor": 5
}
