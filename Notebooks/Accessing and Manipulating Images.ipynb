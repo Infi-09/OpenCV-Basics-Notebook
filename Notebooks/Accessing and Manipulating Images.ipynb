{
 "cells": [
  {
   "cell_type": "markdown",
   "id": "bec83091",
   "metadata": {},
   "source": [
    "# OPENCV NOTEBOOK"
   ]
  },
  {
   "cell_type": "markdown",
   "id": "9109c139",
   "metadata": {},
   "source": [
    "## Image Basics"
   ]
  },
  {
   "cell_type": "markdown",
   "id": "752285de",
   "metadata": {},
   "source": [
    "We have an image with a resolution of 500 × 300. This means that our image is represented as a grid of pixels, with 500 rows and 300 columns.\n",
    "Overall, there are 500 × 300 = 150, 000 pixels in our image"
   ]
  },
  {
   "cell_type": "markdown",
   "id": "b9c178ed",
   "metadata": {},
   "source": [
    "Here are some common colors represented as RGB tuples:\n",
    "• Black: (0,0,0)                                         \n",
    "• White: (255,255,255)                                         \n",
    "• Red: (255,0,0)                                      \n",
    "• Green: (0,255,0)                                                       \n",
    "• Blue: (0,0,255)                                                           \n",
    "• Aqua: (0,255,255)                                                                  \n",
    "• Fuchsia: (255,0,255)                                                     \n",
    "• Maroon: (128,0,0)                                                         \n",
    "• Navy: (0,0,128)                                                                 \n",
    "• Olive: (128,128,0)                                                                    \n",
    "• Purple: (128,0,128)                                                           \n",
    "• Teal: (0,128,128)                                                          \n",
    "• Yellow: (255,255,0)                                                                   "
   ]
  },
  {
   "cell_type": "markdown",
   "id": "8e75a779",
   "metadata": {},
   "source": [
    "## Accessing and Manipulating Pixels"
   ]
  },
  {
   "cell_type": "code",
   "execution_count": 1,
   "id": "957413bf",
   "metadata": {},
   "outputs": [],
   "source": [
    "import cv2\n",
    "import numpy as np"
   ]
  },
  {
   "cell_type": "code",
   "execution_count": 2,
   "id": "3f8a5482",
   "metadata": {},
   "outputs": [
    {
     "data": {
      "text/plain": [
       "(500, 333, 3)"
      ]
     },
     "execution_count": 2,
     "metadata": {},
     "output_type": "execute_result"
    }
   ],
   "source": [
    "# Reading the image by cv2.imread\n",
    "img = cv2.imread(\"images/dog.jpg\")\n",
    "img.shape"
   ]
  },
  {
   "cell_type": "code",
   "execution_count": 3,
   "id": "d4dac01d",
   "metadata": {},
   "outputs": [
    {
     "data": {
      "text/plain": [
       "-1"
      ]
     },
     "execution_count": 3,
     "metadata": {},
     "output_type": "execute_result"
    }
   ],
   "source": [
    "cv2.imshow(\"Image\", img)\n",
    "cv2.waitKey(0)"
   ]
  },
  {
   "cell_type": "code",
   "execution_count": 4,
   "id": "41e802fa",
   "metadata": {},
   "outputs": [
    {
     "name": "stdout",
     "output_type": "stream",
     "text": [
      "Pixels - Red:116  Green:90  Blue:65\n"
     ]
    }
   ],
   "source": [
    "# Accessing the image pixels by index\n",
    "(b, g, r) = img[0, 0]\n",
    "print(f\"Pixels - Red:{r}  Green:{g}  Blue:{b}\")"
   ]
  },
  {
   "cell_type": "code",
   "execution_count": 5,
   "id": "12dec418",
   "metadata": {},
   "outputs": [
    {
     "name": "stdout",
     "output_type": "stream",
     "text": [
      "Pixels - Red:255  Green:0  Blue:0\n"
     ]
    }
   ],
   "source": [
    "# Manipulating the image pixels by index\n",
    "img[0, 0] = (0, 0, 255)\n",
    "(b, g, r) = img[0, 0]\n",
    "print(f\"Pixels - Red:{r}  Green:{g}  Blue:{b}\")"
   ]
  },
  {
   "cell_type": "code",
   "execution_count": 6,
   "id": "6ea0117b",
   "metadata": {},
   "outputs": [
    {
     "data": {
      "text/plain": [
       "-1"
      ]
     },
     "execution_count": 6,
     "metadata": {},
     "output_type": "execute_result"
    }
   ],
   "source": [
    "cv2.imshow(\"Image\", img)\n",
    "cv2.waitKey(0)"
   ]
  },
  {
   "cell_type": "code",
   "execution_count": 7,
   "id": "924f15d0",
   "metadata": {},
   "outputs": [
    {
     "data": {
      "text/plain": [
       "-1"
      ]
     },
     "execution_count": 7,
     "metadata": {},
     "output_type": "execute_result"
    }
   ],
   "source": [
    "# Select the corner by slicing\n",
    "corner = img[0:100, 0:100]\n",
    "cv2.imshow(\"Corner\", corner)\n",
    "cv2.waitKey(0)"
   ]
  },
  {
   "cell_type": "code",
   "execution_count": 10,
   "id": "5af59ca3",
   "metadata": {},
   "outputs": [
    {
     "data": {
      "text/plain": [
       "-1"
      ]
     },
     "execution_count": 10,
     "metadata": {},
     "output_type": "execute_result"
    }
   ],
   "source": [
    "# Assign red color to selected corner\n",
    "img[0:100, 0:100] = (0, 0, 255)\n",
    "cv2.imshow(\"Updated Corner\", img)\n",
    "cv2.waitKey(0)"
   ]
  },
  {
   "cell_type": "code",
   "execution_count": null,
   "id": "32ef964c",
   "metadata": {},
   "outputs": [],
   "source": []
  }
 ],
 "metadata": {
  "kernelspec": {
   "display_name": "Python 3",
   "language": "python",
   "name": "python3"
  },
  "language_info": {
   "codemirror_mode": {
    "name": "ipython",
    "version": 3
   },
   "file_extension": ".py",
   "mimetype": "text/x-python",
   "name": "python",
   "nbconvert_exporter": "python",
   "pygments_lexer": "ipython3",
   "version": "3.8.8"
  }
 },
 "nbformat": 4,
 "nbformat_minor": 5
}
