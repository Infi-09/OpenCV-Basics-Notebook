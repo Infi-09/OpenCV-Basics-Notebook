{
 "cells": [
  {
   "cell_type": "markdown",
   "id": "3d410a1c",
   "metadata": {},
   "source": [
    "# OPNECV NOTEBOOK"
   ]
  },
  {
   "cell_type": "markdown",
   "id": "5bd3a6c3",
   "metadata": {},
   "source": [
    "## Loading, Displaying and Saving an Image"
   ]
  },
  {
   "cell_type": "code",
   "execution_count": 1,
   "id": "1bb576f7",
   "metadata": {},
   "outputs": [],
   "source": [
    "# Import the required libaries\n",
    "import cv2\n",
    "import numpy as np\n",
    "import matplotlib.pyplot as plt"
   ]
  },
  {
   "cell_type": "code",
   "execution_count": 2,
   "id": "ad5e6920",
   "metadata": {},
   "outputs": [
    {
     "data": {
      "text/plain": [
       "(1080, 1920, 3)"
      ]
     },
     "execution_count": 2,
     "metadata": {},
     "output_type": "execute_result"
    }
   ],
   "source": [
    "# read the image using cv2.imread\n",
    "img = cv2.imread(\"images/Infinity.png\")\n",
    "img.shape"
   ]
  },
  {
   "cell_type": "code",
   "execution_count": null,
   "id": "1a9eea13",
   "metadata": {},
   "outputs": [],
   "source": [
    "# To display the image (cv2.imshow)\n",
    "cv2.imshow(\"Image\", img)\n",
    "cv2.waitKey(0)"
   ]
  },
  {
   "cell_type": "code",
   "execution_count": null,
   "id": "f55fb32d",
   "metadata": {},
   "outputs": [],
   "source": [
    "# To save the image use cv2.imwrite \n",
    "cv2.imwrite(\"images/infinty.jpg\", img)"
   ]
  }
 ],
 "metadata": {
  "kernelspec": {
   "display_name": "Python 3",
   "language": "python",
   "name": "python3"
  },
  "language_info": {
   "codemirror_mode": {
    "name": "ipython",
    "version": 3
   },
   "file_extension": ".py",
   "mimetype": "text/x-python",
   "name": "python",
   "nbconvert_exporter": "python",
   "pygments_lexer": "ipython3",
   "version": "3.8.8"
  }
 },
 "nbformat": 4,
 "nbformat_minor": 5
}
