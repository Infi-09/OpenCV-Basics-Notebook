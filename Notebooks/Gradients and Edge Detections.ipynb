{
 "cells": [
  {
   "cell_type": "markdown",
   "id": "36a8c5cc",
   "metadata": {},
   "source": [
    "# OPENCV NOTEBOOK"
   ]
  },
  {
   "cell_type": "markdown",
   "id": "7e4f2d12",
   "metadata": {},
   "source": [
    "# Gradients and Edge Detection\n",
    "This chapter is primarily concerned with gradients and\n",
    "edge detection. Formally, edge detection embodies mathematical methods to find points in an image where the\n",
    "brightness of pixel intensities changes distinctly.\n",
    "The first thing we are going to do is find the “gradient” of\n",
    "the grayscale image, allowing us to find edge-like regions\n",
    "in the x and y direction.\n",
    "\n",
    "We’ll then apply Canny edge detection, a multi-stage process of noise reduction (blurring), finding the gradient of\n",
    "the image (utilizing the Sobel kernel in both the horizontal and vertical direction), non-maximum suppression, and\n",
    "hysteresis thresholding."
   ]
  },
  {
   "cell_type": "code",
   "execution_count": 1,
   "id": "37b1319e",
   "metadata": {},
   "outputs": [],
   "source": [
    "import cv2\n",
    "import mahotas \n",
    "import numpy as np"
   ]
  },
  {
   "cell_type": "code",
   "execution_count": 4,
   "id": "73c36a0b",
   "metadata": {},
   "outputs": [
    {
     "data": {
      "text/plain": [
       "(588, 466, 3)"
      ]
     },
     "execution_count": 4,
     "metadata": {},
     "output_type": "execute_result"
    }
   ],
   "source": [
    "img = cv2.imread(\"images/symbol.jpg\")\n",
    "img.shape"
   ]
  },
  {
   "cell_type": "markdown",
   "id": "65a244b2",
   "metadata": {},
   "source": [
    "## Laplacian and Sobel"
   ]
  },
  {
   "cell_type": "code",
   "execution_count": 5,
   "id": "43cbd8df",
   "metadata": {},
   "outputs": [
    {
     "data": {
      "text/plain": [
       "-1"
      ]
     },
     "execution_count": 5,
     "metadata": {},
     "output_type": "execute_result"
    }
   ],
   "source": [
    "# Detecting edge in the gray scale image using Laplacian function\n",
    "# Convert BGR to gray scale\n",
    "gray = cv2.cvtColor(img, cv2.COLOR_BGR2GRAY)\n",
    "# Use laplacian function to compute the gradients\n",
    "lap = cv2.Laplacian(gray, cv2.CV_64F)\n",
    "# Absolute the gradients and chnage into uint8\n",
    "lap = np.uint8(np.absolute(lap))\n",
    "cv2.imshow(\"Laplacian\", lap)\n",
    "cv2.waitKey(0)"
   ]
  },
  {
   "cell_type": "code",
   "execution_count": 6,
   "id": "083eaab9",
   "metadata": {},
   "outputs": [
    {
     "data": {
      "text/plain": [
       "-1"
      ]
     },
     "execution_count": 6,
     "metadata": {},
     "output_type": "execute_result"
    }
   ],
   "source": [
    "# Detecting edge in the gray scale image using sobel function\n",
    "# Convert BGR to gray scale\n",
    "gray = cv2.cvtColor(img, cv2.COLOR_BGR2GRAY)\n",
    "\n",
    "# Sobel X and Y for edge detection\n",
    "sobelX = cv2.Sobel(gray, cv2.CV_64F, 1, 0)\n",
    "sobelY = cv2.Sobel(gray, cv2.CV_64F, 0, 1)\n",
    "\n",
    "# Absolute the gradients and chnage into uint8\n",
    "sobelX = np.uint8(np.absolute(sobelX))\n",
    "sobelY = np.uint8(np.absolute(sobelY))\n",
    "\n",
    "# Both Sobel X and Y (combined)\n",
    "sobelCombined = cv2.bitwise_or(sobelX, sobelY)\n",
    "\n",
    "cv2.imshow(\"Original\", img)\n",
    "cv2.imshow(\"SobelX\", sobelX)\n",
    "cv2.imshow(\"SobelY\", sobelY)\n",
    "cv2.imshow(\"Sobel Combined\", sobelCombined)\n",
    "cv2.waitKey(0)"
   ]
  },
  {
   "cell_type": "markdown",
   "id": "dd5fa320",
   "metadata": {},
   "source": [
    "## Canny Edge Detection"
   ]
  },
  {
   "cell_type": "code",
   "execution_count": 7,
   "id": "969552dd",
   "metadata": {},
   "outputs": [
    {
     "data": {
      "text/plain": [
       "-1"
      ]
     },
     "execution_count": 7,
     "metadata": {},
     "output_type": "execute_result"
    }
   ],
   "source": [
    "# Canny \n",
    "# Convert BGR to gray scale image\n",
    "gray = cv2.cvtColor(img, cv2.COLOR_BGR2GRAY)\n",
    "# Apply Gaussian Blur to get rid of noise \n",
    "blurred = cv2.GaussianBlur(gray, (5, 5), 0)\n",
    "cv2.imshow(\"Blurred Image\", blurred)\n",
    "\n",
    "# Canny function\n",
    "canny = cv2.Canny(gray, 40, 160) # [image, threshold1, threshold2]\n",
    "cv2.imshow(\"Canny\", canny)\n",
    "cv2.waitKey(0)"
   ]
  },
  {
   "cell_type": "code",
   "execution_count": null,
   "id": "cd1e76ed",
   "metadata": {},
   "outputs": [],
   "source": []
  }
 ],
 "metadata": {
  "kernelspec": {
   "display_name": "Python 3",
   "language": "python",
   "name": "python3"
  },
  "language_info": {
   "codemirror_mode": {
    "name": "ipython",
    "version": 3
   },
   "file_extension": ".py",
   "mimetype": "text/x-python",
   "name": "python",
   "nbconvert_exporter": "python",
   "pygments_lexer": "ipython3",
   "version": "3.8.8"
  }
 },
 "nbformat": 4,
 "nbformat_minor": 5
}
