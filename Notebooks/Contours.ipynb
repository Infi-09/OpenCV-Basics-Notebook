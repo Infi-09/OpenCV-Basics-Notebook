{
 "cells": [
  {
   "cell_type": "markdown",
   "id": "b4eb3764",
   "metadata": {},
   "source": [
    "# OPENCV NOTEBOOK"
   ]
  },
  {
   "cell_type": "markdown",
   "id": "415e4e82",
   "metadata": {},
   "source": [
    "# Contours"
   ]
  },
  {
   "cell_type": "code",
   "execution_count": 1,
   "id": "91224aa0",
   "metadata": {},
   "outputs": [],
   "source": [
    "import cv2\n",
    "import mahotas \n",
    "import numpy as np"
   ]
  },
  {
   "cell_type": "code",
   "execution_count": 2,
   "id": "73dc8877",
   "metadata": {},
   "outputs": [
    {
     "data": {
      "text/plain": [
       "(588, 466, 3)"
      ]
     },
     "execution_count": 2,
     "metadata": {},
     "output_type": "execute_result"
    }
   ],
   "source": [
    "img = cv2.imread(\"images/symbol.jpg\")\n",
    "img.shape"
   ]
  },
  {
   "cell_type": "code",
   "execution_count": 4,
   "id": "74f69de0",
   "metadata": {},
   "outputs": [
    {
     "data": {
      "text/plain": [
       "-1"
      ]
     },
     "execution_count": 4,
     "metadata": {},
     "output_type": "execute_result"
    }
   ],
   "source": [
    "# Convert BGR to gray scale image\n",
    "gray = cv2.cvtColor(img, cv2.COLOR_BGR2GRAY)\n",
    "# Apply Gaussian Blur to get rid of noise \n",
    "blurred = cv2.GaussianBlur(gray, (5, 5), 0)\n",
    "cv2.imshow(\"Blurred Image\", blurred)\n",
    "\n",
    "# Canny function\n",
    "edged = cv2.Canny(gray, 40, 160) # [image, threshold1, threshold2]\n",
    "cv2.imshow(\"Canny\", edged)\n",
    "cv2.waitKey(0)"
   ]
  },
  {
   "cell_type": "code",
   "execution_count": 5,
   "id": "28ad9e26",
   "metadata": {},
   "outputs": [
    {
     "name": "stdout",
     "output_type": "stream",
     "text": [
      "I count 67 symbols in this image\n"
     ]
    },
    {
     "data": {
      "text/plain": [
       "-1"
      ]
     },
     "execution_count": 5,
     "metadata": {},
     "output_type": "execute_result"
    }
   ],
   "source": [
    "(cnts, _) = cv2.findContours(edged.copy(), cv2.RETR_EXTERNAL, cv2.CHAIN_APPROX_SIMPLE)\n",
    " \n",
    "print(\"I count {} symbols in this image\".format(len(cnts)))\n",
    "\n",
    "symbol = img.copy()\n",
    "cv2.drawContours(symbol, cnts, -1, (0, 0, 255), 1)\n",
    "cv2.imshow(\"Symbols\", symbol)\n",
    "cv2.waitKey(0)"
   ]
  },
  {
   "cell_type": "code",
   "execution_count": null,
   "id": "9113527d",
   "metadata": {},
   "outputs": [],
   "source": [
    "# For loop for getting all he coordinates of the contours\n",
    "for (i, c) in enumerate(cnts):\n",
    "    # coordinates of the contour\n",
    "    (x, y, w, h) = cv2.boundingRect(c)\n",
    "\n",
    "    print(\"Symbol #{}\".format(i + 1))\n",
    "    # Cropping the original symbol on the image\n",
    "    symbol = img[y:y + h, x:x + w]\n",
    "    cv2.imshow(\"Symbol\", symbol)\n",
    "    \n",
    "    # Appling Mask\n",
    "    mask = np.zeros(img.shape[:2], dtype = \"uint8\")\n",
    "    # Mask in the shape of circle\n",
    "    ((centerX, centerY), radius) = cv2.minEnclosingCircle(c)\n",
    "    # Circle Mask\n",
    "    cv2.circle(mask, (int(centerX), int(centerY)), int(radius), 255, -1)\n",
    "    # Only need the masked region\n",
    "    mask = mask[y:y + h, x:x + w]\n",
    "    cv2.imshow(\"Masked Symbol\", cv2.bitwise_and(symbol, symbol, mask = mask))\n",
    "    cv2.waitKey(0)"
   ]
  }
 ],
 "metadata": {
  "kernelspec": {
   "display_name": "Python 3",
   "language": "python",
   "name": "python3"
  },
  "language_info": {
   "codemirror_mode": {
    "name": "ipython",
    "version": 3
   },
   "file_extension": ".py",
   "mimetype": "text/x-python",
   "name": "python",
   "nbconvert_exporter": "python",
   "pygments_lexer": "ipython3",
   "version": "3.8.8"
  }
 },
 "nbformat": 4,
 "nbformat_minor": 5
}
